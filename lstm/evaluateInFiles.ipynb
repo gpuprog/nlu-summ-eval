{
 "cells": [
  {
   "attachments": {},
   "cell_type": "markdown",
   "metadata": {},
   "source": [
    "## Prepare evaluation code"
   ]
  },
  {
   "cell_type": "code",
   "execution_count": 1,
   "metadata": {},
   "outputs": [
    {
     "name": "stderr",
     "output_type": "stream",
     "text": [
      "C:\\Users\\ok\\AppData\\Local\\Temp\\ipykernel_22576\\1908018798.py:2: FutureWarning: load_metric is deprecated and will be removed in the next major version of datasets. Use 'evaluate.load' instead, from the new library 🤗 Evaluate: https://huggingface.co/docs/evaluate\n",
      "  rouge = datasets.load_metric(\"rouge\")\n"
     ]
    }
   ],
   "source": [
    "import datasets\n",
    "rouge = datasets.load_metric(\"rouge\")\n",
    "\n",
    "def evaluate(ref_dir, dec_dir, n):\n",
    "    pred_str = []\n",
    "    label_str = []\n",
    "\n",
    "    num = \"{:06d}\"\n",
    "\n",
    "    for i in range(n-1):\n",
    "        with open(dec_dir + num.format(i) + \"_decoded.txt\") as f:\n",
    "            pred_str.append( f.read() )\n",
    "        \n",
    "    for i in range(n-1):\n",
    "        with open(ref_dir + num.format(i) + \"_reference.txt\") as f:\n",
    "            label_str.append( f.read() )\n",
    "\n",
    "    print(\"ROUGE-1 SCORE: \", rouge.compute(predictions=pred_str, references=label_str, rouge_types=[\"rouge1\"])[\"rouge1\"].mid)\n",
    "    print(\"ROUGE-2 SCORE: \", rouge.compute(predictions=pred_str, references=label_str, rouge_types=[\"rouge2\"])[\"rouge2\"].mid)\n",
    "    print(\"ROUGE-L SCORE: \", rouge.compute(predictions=pred_str, references=label_str, rouge_types=[\"rougeL\"])[\"rougeL\"].mid)"
   ]
  },
  {
   "attachments": {},
   "cell_type": "markdown",
   "metadata": {},
   "source": [
    "## Evaluate CNN from backup"
   ]
  },
  {
   "cell_type": "code",
   "execution_count": 3,
   "metadata": {},
   "outputs": [
    {
     "name": "stdout",
     "output_type": "stream",
     "text": [
      "ROUGE-1 SCORE:  Score(precision=0.2442322979424001, recall=0.3408682741293545, fmeasure=0.2773046347005651)\n",
      "ROUGE-2 SCORE:  Score(precision=0.08779798941060873, recall=0.12440523632856337, fmeasure=0.10025713033471245)\n",
      "ROUGE-L SCORE:  Score(precision=0.17565870783590243, recall=0.2464917333523518, fmeasure=0.19997666176309253)\n"
     ]
    }
   ],
   "source": [
    "evaluate('./backup/results-cnn/reference/', './backup/results-cnn/decoded/', 1000)"
   ]
  },
  {
   "attachments": {},
   "cell_type": "markdown",
   "metadata": {},
   "source": [
    "## Evaluate Amazon from backup"
   ]
  },
  {
   "cell_type": "code",
   "execution_count": 8,
   "metadata": {},
   "outputs": [
    {
     "name": "stdout",
     "output_type": "stream",
     "text": [
      "ROUGE-1 SCORE:  Score(precision=0.03369094840781636, recall=0.359861842537281, fmeasure=0.059845827092843806)\n",
      "ROUGE-2 SCORE:  Score(precision=0.008233609766609718, recall=0.10697239447239454, fmeasure=0.01481335585232265)\n",
      "ROUGE-L SCORE:  Score(precision=0.030332255198323253, recall=0.33169050895659047, fmeasure=0.05399613926225541)\n"
     ]
    }
   ],
   "source": [
    "evaluate('./backup/results-amazon/reference/', './backup/results-amazon/decoded/', 1000)"
   ]
  },
  {
   "attachments": {},
   "cell_type": "markdown",
   "metadata": {},
   "source": [
    "## Evaluate WikiHow from backup"
   ]
  },
  {
   "cell_type": "code",
   "execution_count": 7,
   "metadata": {},
   "outputs": [
    {
     "name": "stdout",
     "output_type": "stream",
     "text": [
      "ROUGE-1 SCORE:  Score(precision=0.06269816592961451, recall=0.4254325724688558, fmeasure=0.10389805540007535)\n",
      "ROUGE-2 SCORE:  Score(precision=0.01676162055959328, recall=0.1461991050854669, fmeasure=0.028630417063864804)\n",
      "ROUGE-L SCORE:  Score(precision=0.05439361287863513, recall=0.3790063355939203, fmeasure=0.09059636890133413)\n"
     ]
    }
   ],
   "source": [
    "evaluate('./backup/results-wikihow/reference/', './backup/results-wikihow/decoded/', 1000)"
   ]
  },
  {
   "attachments": {},
   "cell_type": "markdown",
   "metadata": {},
   "source": [
    "## Optional: Evaluate results directly"
   ]
  },
  {
   "cell_type": "code",
   "execution_count": null,
   "metadata": {},
   "outputs": [],
   "source": [
    "#evaluate('./pretrained_model_tf1.2.1/test/decode_test_400maxenc_4beam_35mindec_100maxdec_ckpt-238410/reference/', './pretrained_model_tf1.2.1/test/decode_test_400maxenc_4beam_35mindec_100maxdec_ckpt-238410/decoded/', 1000)"
   ]
  }
 ],
 "metadata": {
  "kernelspec": {
   "display_name": "Python 3.9.12 ('nlu')",
   "language": "python",
   "name": "python3"
  },
  "language_info": {
   "codemirror_mode": {
    "name": "ipython",
    "version": 3
   },
   "file_extension": ".py",
   "mimetype": "text/x-python",
   "name": "python",
   "nbconvert_exporter": "python",
   "pygments_lexer": "ipython3",
   "version": "3.9.12"
  },
  "orig_nbformat": 4,
  "vscode": {
   "interpreter": {
    "hash": "b7058db7ffe68ce3429c5b04b32b269e00fce7d116bc7fb63c09b71d27ca04e7"
   }
  }
 },
 "nbformat": 4,
 "nbformat_minor": 2
}
