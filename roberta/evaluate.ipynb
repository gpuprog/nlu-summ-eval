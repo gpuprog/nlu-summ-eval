{
 "cells": [
  {
   "attachments": {},
   "cell_type": "markdown",
   "metadata": {},
   "source": [
    "The two following cells is evaluation but first cell is committed because in this repo we have no our pretrained model."
   ]
  },
  {
   "cell_type": "code",
   "execution_count": 1,
   "metadata": {},
   "outputs": [],
   "source": [
    "#import evaluator\n",
    "#from transformers import RobertaTokenizerFast, EncoderDecoderModel\n",
    "\n",
    "#tokenizer = RobertaTokenizerFast.from_pretrained(\"./tokenizer-roberta-base\")\n",
    "#tokenizer.bos_token = tokenizer.cls_token\n",
    "#tokenizer.eos_token = tokenizer.sep_token\n",
    "\n",
    "#model = EncoderDecoderModel.from_pretrained(\"./-checkpoint-6432\")\n",
    "#model.to(\"cuda\")"
   ]
  },
  {
   "cell_type": "code",
   "execution_count": null,
   "metadata": {},
   "outputs": [],
   "source": [
    "import evaluator\n",
    "from transformers import BertTokenizer, EncoderDecoderModel\n",
    "\n",
    "tokenizer = BertTokenizer.from_pretrained(\"bert-base-uncased\")\n",
    "model = EncoderDecoderModel.from_pretrained(\"patrickvonplaten/bert2bert_cnn_daily_mail\")\n",
    "model.to(\"cuda\")"
   ]
  },
  {
   "attachments": {},
   "cell_type": "markdown",
   "metadata": {},
   "source": [
    "## Little datasets\n",
    "### Evaluate CNN dataset"
   ]
  },
  {
   "cell_type": "code",
   "execution_count": 3,
   "metadata": {},
   "outputs": [
    {
     "name": "stderr",
     "output_type": "stream",
     "text": [
      "Found cached dataset cnn_dailymail (C:/Users/ok/.cache/huggingface/datasets/cnn_dailymail/3.0.0/3.0.0/1b3c71476f6d152c31c1730e83ccb08bcf23e348233f4fcc11e182248e6bf7de)\n"
     ]
    },
    {
     "data": {
      "application/vnd.jupyter.widget-view+json": {
       "model_id": "8edfe0352c204e39b9e23a2aa300d403",
       "version_major": 2,
       "version_minor": 0
      },
      "text/plain": [
       "  0%|          | 0/42 [00:00<?, ?ba/s]"
      ]
     },
     "metadata": {},
     "output_type": "display_data"
    },
    {
     "name": "stdout",
     "output_type": "stream",
     "text": [
      "ROUGE-1 SCORE:  Score(precision=0.2525304610882908, recall=0.39247464804793186, fmeasure=0.30106972611528726)\n",
      "ROUGE-2 SCORE:  Score(precision=0.09652666920216574, recall=0.1532021376601586, fmeasure=0.11579178708443649)\n",
      "ROUGE-L SCORE:  Score(precision=0.17815952672032453, recall=0.2805718623120605, fmeasure=0.21338040038249023)\n"
     ]
    }
   ],
   "source": [
    "rouge, pred_str, label_str = evaluator.evaluate(model, tokenizer, evaluator.cnnTestset())"
   ]
  },
  {
   "attachments": {},
   "cell_type": "markdown",
   "metadata": {},
   "source": [
    "### Evaluate Amazon dataset"
   ]
  },
  {
   "cell_type": "code",
   "execution_count": 4,
   "metadata": {},
   "outputs": [
    {
     "name": "stdout",
     "output_type": "stream",
     "text": [
      "Data size: 568427 \n",
      "Test size: 1000\n"
     ]
    },
    {
     "data": {
      "application/vnd.jupyter.widget-view+json": {
       "model_id": "b2e0160ff2ce4f47bec84569b8b580e1",
       "version_major": 2,
       "version_minor": 0
      },
      "text/plain": [
       "  0%|          | 0/42 [00:00<?, ?ba/s]"
      ]
     },
     "metadata": {},
     "output_type": "display_data"
    },
    {
     "name": "stdout",
     "output_type": "stream",
     "text": [
      "ROUGE-1 SCORE:  Score(precision=0.03332639249560548, recall=0.37331557609057586, fmeasure=0.05968116661472536)\n",
      "ROUGE-2 SCORE:  Score(precision=0.008479239658210683, recall=0.11209684343434352, fmeasure=0.01525822349693107)\n",
      "ROUGE-L SCORE:  Score(precision=0.029570528323507872, recall=0.3421358474858471, fmeasure=0.05313195928133911)\n"
     ]
    }
   ],
   "source": [
    "rouge, pred_str, label_str = evaluator.evaluate(model, tokenizer, evaluator.amazonTestset())"
   ]
  },
  {
   "attachments": {},
   "cell_type": "markdown",
   "metadata": {},
   "source": [
    "### Evaluate WikiHow dataset"
   ]
  },
  {
   "cell_type": "code",
   "execution_count": 5,
   "metadata": {},
   "outputs": [
    {
     "name": "stderr",
     "output_type": "stream",
     "text": [
      "b'Skipping line 145125: expected 5 fields, saw 6\\n'\n",
      "b'Skipping line 267321: expected 5 fields, saw 8\\nSkipping line 287212: expected 5 fields, saw 6\\nSkipping line 287222: expected 5 fields, saw 6\\nSkipping line 287233: expected 5 fields, saw 7\\nSkipping line 322360: expected 5 fields, saw 6\\n'\n",
      "b'Skipping line 395917: expected 5 fields, saw 6\\nSkipping line 440797: expected 5 fields, saw 6\\nSkipping line 440801: expected 5 fields, saw 9\\n'\n",
      "b'Skipping line 533562: expected 5 fields, saw 9\\nSkipping line 566249: expected 5 fields, saw 7\\nSkipping line 566252: expected 5 fields, saw 7\\n'\n",
      "b'Skipping line 690527: expected 5 fields, saw 8\\nSkipping line 718305: expected 5 fields, saw 6\\nSkipping line 736917: expected 5 fields, saw 13\\nSkipping line 760719: expected 5 fields, saw 6\\nSkipping line 785334: expected 5 fields, saw 7\\n'\n",
      "b'Skipping line 793065: expected 5 fields, saw 9\\nSkipping line 794327: expected 5 fields, saw 7\\nSkipping line 808836: expected 5 fields, saw 8\\nSkipping line 808838: expected 5 fields, saw 10\\nSkipping line 916386: expected 5 fields, saw 6\\n'\n",
      "b'Skipping line 922052: expected 5 fields, saw 8\\nSkipping line 999183: expected 5 fields, saw 6\\n'\n",
      "b'Skipping line 1089962: expected 5 fields, saw 9\\nSkipping line 1089966: expected 5 fields, saw 9\\nSkipping line 1148406: expected 5 fields, saw 8\\nSkipping line 1171819: expected 5 fields, saw 8\\nSkipping line 1174728: expected 5 fields, saw 8\\n'\n",
      "b'Skipping line 1189706: expected 5 fields, saw 6\\nSkipping line 1190154: expected 5 fields, saw 9\\nSkipping line 1190183: expected 5 fields, saw 9\\nSkipping line 1192317: expected 5 fields, saw 6\\nSkipping line 1231622: expected 5 fields, saw 9\\nSkipping line 1285129: expected 5 fields, saw 9\\n'\n",
      "b'Skipping line 1339467: expected 5 fields, saw 6\\nSkipping line 1339469: expected 5 fields, saw 9\\nSkipping line 1375077: expected 5 fields, saw 7\\nSkipping line 1393268: expected 5 fields, saw 6\\nSkipping line 1393292: expected 5 fields, saw 6\\nSkipping line 1393304: expected 5 fields, saw 6\\nSkipping line 1436412: expected 5 fields, saw 6\\nSkipping line 1439064: expected 5 fields, saw 9\\n'\n",
      "b'Skipping line 1464904: expected 5 fields, saw 7\\nSkipping line 1470000: expected 5 fields, saw 6\\nSkipping line 1488826: expected 5 fields, saw 9\\nSkipping line 1505520: expected 5 fields, saw 12\\nSkipping line 1505545: expected 5 fields, saw 7\\nSkipping line 1525562: expected 5 fields, saw 6\\nSkipping line 1525564: expected 5 fields, saw 10\\nSkipping line 1557644: expected 5 fields, saw 6\\nSkipping line 1561643: expected 5 fields, saw 10\\nSkipping line 1564063: expected 5 fields, saw 6\\n'\n",
      "b'Skipping line 1574807: expected 5 fields, saw 8\\nSkipping line 1576005: expected 5 fields, saw 6\\n'\n"
     ]
    },
    {
     "name": "stdout",
     "output_type": "stream",
     "text": [
      "Data size: 1387269 \n",
      "Test size: 1000\n"
     ]
    },
    {
     "data": {
      "application/vnd.jupyter.widget-view+json": {
       "model_id": "0cfd58be69df4296be842f5e9a424f9c",
       "version_major": 2,
       "version_minor": 0
      },
      "text/plain": [
       "  0%|          | 0/42 [00:00<?, ?ba/s]"
      ]
     },
     "metadata": {},
     "output_type": "display_data"
    },
    {
     "name": "stdout",
     "output_type": "stream",
     "text": [
      "ROUGE-1 SCORE:  Score(precision=0.06037368239599067, recall=0.4679720949753431, fmeasure=0.10253441591723192)\n",
      "ROUGE-2 SCORE:  Score(precision=0.01568013694845191, recall=0.15240214725835777, fmeasure=0.02718006519666076)\n",
      "ROUGE-L SCORE:  Score(precision=0.050506911575425396, recall=0.4091812969511115, fmeasure=0.08636403422642706)\n"
     ]
    }
   ],
   "source": [
    "rouge, pred_str, label_str = evaluator.evaluate(model, tokenizer, evaluator.wikihowTestset())"
   ]
  },
  {
   "attachments": {},
   "cell_type": "markdown",
   "metadata": {},
   "source": [
    "## Big datasets\n",
    "### Evaluate CNN dataset"
   ]
  },
  {
   "cell_type": "code",
   "execution_count": 6,
   "metadata": {},
   "outputs": [],
   "source": [
    "#rouge, pred_str, label_str = evaluator.evaluate(model, tokenizer, evaluator.amazonTestset(True))"
   ]
  },
  {
   "attachments": {},
   "cell_type": "markdown",
   "metadata": {},
   "source": [
    "### Evaluate Amazon dataset"
   ]
  },
  {
   "cell_type": "code",
   "execution_count": 7,
   "metadata": {},
   "outputs": [],
   "source": [
    "#rouge, pred_str, label_str = evaluator.evaluate(model, tokenizer, evaluator.amazonTestset(True))"
   ]
  },
  {
   "attachments": {},
   "cell_type": "markdown",
   "metadata": {},
   "source": [
    "### Evaluate WikiHow dataset"
   ]
  },
  {
   "cell_type": "code",
   "execution_count": 8,
   "metadata": {},
   "outputs": [],
   "source": [
    "#rouge, pred_str, label_str = evaluator.evaluate(model, tokenizer, evaluator.wikihowTestset(True))"
   ]
  }
 ],
 "metadata": {
  "kernelspec": {
   "display_name": "Python 3.9.12 64-bit ('nlu': conda)",
   "language": "python",
   "name": "python3"
  },
  "language_info": {
   "codemirror_mode": {
    "name": "ipython",
    "version": 3
   },
   "file_extension": ".py",
   "mimetype": "text/x-python",
   "name": "python",
   "nbconvert_exporter": "python",
   "pygments_lexer": "ipython3",
   "version": "3.9.12"
  },
  "orig_nbformat": 4,
  "vscode": {
   "interpreter": {
    "hash": "b7058db7ffe68ce3429c5b04b32b269e00fce7d116bc7fb63c09b71d27ca04e7"
   }
  }
 },
 "nbformat": 4,
 "nbformat_minor": 2
}
