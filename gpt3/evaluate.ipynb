{
 "cells": [
  {
   "cell_type": "code",
   "execution_count": 1,
   "metadata": {},
   "outputs": [
    {
     "name": "stderr",
     "output_type": "stream",
     "text": [
      "Found cached dataset cnn_dailymail (C:/Users/ok/.cache/huggingface/datasets/cnn_dailymail/3.0.0/3.0.0/1b3c71476f6d152c31c1730e83ccb08bcf23e348233f4fcc11e182248e6bf7de)\n",
      "100%|██████████| 100/100 [04:10<00:00,  2.51s/it]\n",
      "e:\\proj\\gpt3\\evaluator.py:74: FutureWarning: load_metric is deprecated and will be removed in the next major version of datasets. Use 'evaluate.load' instead, from the new library 🤗 Evaluate: https://huggingface.co/docs/evaluate\n",
      "  rouge = datasets.load_metric(\"rouge\")\n"
     ]
    },
    {
     "name": "stdout",
     "output_type": "stream",
     "text": [
      "ROUGE-1 SCORE:  Score(precision=0.3327104622296533, recall=0.3333758596353634, fmeasure=0.3016025089375387)\n",
      "ROUGE-2 SCORE:  Score(precision=0.12931280468907239, recall=0.13228997358242695, fmeasure=0.11846856954171893)\n",
      "ROUGE-L SCORE:  Score(precision=0.25576452227540536, recall=0.25199435870338416, fmeasure=0.22930701930070108)\n"
     ]
    }
   ],
   "source": [
    "import evaluator\n",
    "\n",
    "rouge, pred_str, label_str = evaluator.evaluate(evaluator.cnnTestset())"
   ]
  },
  {
   "cell_type": "code",
   "execution_count": 2,
   "metadata": {},
   "outputs": [
    {
     "name": "stdout",
     "output_type": "stream",
     "text": [
      "Data size: 568427 \n",
      "Test size: 100\n"
     ]
    },
    {
     "name": "stderr",
     "output_type": "stream",
     "text": [
      "100%|██████████| 100/100 [02:52<00:00,  1.72s/it]\n"
     ]
    },
    {
     "name": "stdout",
     "output_type": "stream",
     "text": [
      "ROUGE-1 SCORE:  Score(precision=0.0817440744525787, recall=0.2850928932178931, fmeasure=0.109469327433591)\n",
      "ROUGE-2 SCORE:  Score(precision=0.020831771740229273, recall=0.07452380952380952, fmeasure=0.02570830030932474)\n",
      "ROUGE-L SCORE:  Score(precision=0.07820641976426193, recall=0.2713672438672438, fmeasure=0.10411795029694174)\n"
     ]
    }
   ],
   "source": [
    "rouge, pred_str, label_str = evaluator.evaluate(evaluator.amazonTestset())"
   ]
  },
  {
   "cell_type": "code",
   "execution_count": 3,
   "metadata": {},
   "outputs": [
    {
     "name": "stderr",
     "output_type": "stream",
     "text": [
      "b'Skipping line 145125: expected 5 fields, saw 6\\n'\n",
      "b'Skipping line 267321: expected 5 fields, saw 8\\nSkipping line 287212: expected 5 fields, saw 6\\nSkipping line 287222: expected 5 fields, saw 6\\nSkipping line 287233: expected 5 fields, saw 7\\nSkipping line 322360: expected 5 fields, saw 6\\n'\n",
      "b'Skipping line 395917: expected 5 fields, saw 6\\nSkipping line 440797: expected 5 fields, saw 6\\nSkipping line 440801: expected 5 fields, saw 9\\n'\n",
      "b'Skipping line 533562: expected 5 fields, saw 9\\nSkipping line 566249: expected 5 fields, saw 7\\nSkipping line 566252: expected 5 fields, saw 7\\n'\n",
      "b'Skipping line 690527: expected 5 fields, saw 8\\nSkipping line 718305: expected 5 fields, saw 6\\nSkipping line 736917: expected 5 fields, saw 13\\nSkipping line 760719: expected 5 fields, saw 6\\nSkipping line 785334: expected 5 fields, saw 7\\n'\n",
      "b'Skipping line 793065: expected 5 fields, saw 9\\nSkipping line 794327: expected 5 fields, saw 7\\nSkipping line 808836: expected 5 fields, saw 8\\nSkipping line 808838: expected 5 fields, saw 10\\nSkipping line 916386: expected 5 fields, saw 6\\n'\n",
      "b'Skipping line 922052: expected 5 fields, saw 8\\nSkipping line 999183: expected 5 fields, saw 6\\n'\n",
      "b'Skipping line 1089962: expected 5 fields, saw 9\\nSkipping line 1089966: expected 5 fields, saw 9\\nSkipping line 1148406: expected 5 fields, saw 8\\nSkipping line 1171819: expected 5 fields, saw 8\\nSkipping line 1174728: expected 5 fields, saw 8\\n'\n",
      "b'Skipping line 1189706: expected 5 fields, saw 6\\nSkipping line 1190154: expected 5 fields, saw 9\\nSkipping line 1190183: expected 5 fields, saw 9\\nSkipping line 1192317: expected 5 fields, saw 6\\nSkipping line 1231622: expected 5 fields, saw 9\\nSkipping line 1285129: expected 5 fields, saw 9\\n'\n",
      "b'Skipping line 1339467: expected 5 fields, saw 6\\nSkipping line 1339469: expected 5 fields, saw 9\\nSkipping line 1375077: expected 5 fields, saw 7\\nSkipping line 1393268: expected 5 fields, saw 6\\nSkipping line 1393292: expected 5 fields, saw 6\\nSkipping line 1393304: expected 5 fields, saw 6\\nSkipping line 1436412: expected 5 fields, saw 6\\nSkipping line 1439064: expected 5 fields, saw 9\\n'\n",
      "b'Skipping line 1464904: expected 5 fields, saw 7\\nSkipping line 1470000: expected 5 fields, saw 6\\nSkipping line 1488826: expected 5 fields, saw 9\\nSkipping line 1505520: expected 5 fields, saw 12\\nSkipping line 1505545: expected 5 fields, saw 7\\nSkipping line 1525562: expected 5 fields, saw 6\\nSkipping line 1525564: expected 5 fields, saw 10\\nSkipping line 1557644: expected 5 fields, saw 6\\nSkipping line 1561643: expected 5 fields, saw 10\\nSkipping line 1564063: expected 5 fields, saw 6\\n'\n",
      "b'Skipping line 1574807: expected 5 fields, saw 8\\nSkipping line 1576005: expected 5 fields, saw 6\\n'\n"
     ]
    },
    {
     "name": "stdout",
     "output_type": "stream",
     "text": [
      "Data size: 1387269 \n",
      "Test size: 100\n"
     ]
    },
    {
     "name": "stderr",
     "output_type": "stream",
     "text": [
      "100%|██████████| 100/100 [05:36<00:00,  3.36s/it]\n"
     ]
    },
    {
     "name": "stdout",
     "output_type": "stream",
     "text": [
      "ROUGE-1 SCORE:  Score(precision=0.09158161637334522, recall=0.4381387298656161, fmeasure=0.13573216025316248)\n",
      "ROUGE-2 SCORE:  Score(precision=0.026047880620164457, recall=0.15472626678876678, fmeasure=0.04025610542936419)\n",
      "ROUGE-L SCORE:  Score(precision=0.08074723809371384, recall=0.38478905702141, fmeasure=0.11946484837587168)\n"
     ]
    }
   ],
   "source": [
    "rouge, pred_str, label_str = evaluator.evaluate(evaluator.wikihowTestset())"
   ]
  }
 ],
 "metadata": {
  "kernelspec": {
   "display_name": "Python 3.9.12 64-bit ('nlu': conda)",
   "language": "python",
   "name": "python3"
  },
  "language_info": {
   "codemirror_mode": {
    "name": "ipython",
    "version": 3
   },
   "file_extension": ".py",
   "mimetype": "text/x-python",
   "name": "python",
   "nbconvert_exporter": "python",
   "pygments_lexer": "ipython3",
   "version": "3.9.12"
  },
  "orig_nbformat": 4,
  "vscode": {
   "interpreter": {
    "hash": "b7058db7ffe68ce3429c5b04b32b269e00fce7d116bc7fb63c09b71d27ca04e7"
   }
  }
 },
 "nbformat": 4,
 "nbformat_minor": 2
}
